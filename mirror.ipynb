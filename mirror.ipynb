{
 "cells": [
  {
   "cell_type": "code",
   "execution_count": null,
   "metadata": {},
   "outputs": [],
   "source": [
    "import open3d as o3d\n",
    "import os\n",
    "\n",
    "# load surfaces\n",
    "\n",
    "p4 = o3d.io.read_triangle_mesh(r'C:\\Users\\tmhtxk25\\Downloads\\skin_smooth_3mm.stl') # original\n",
    "p4m = o3d.io.read_triangle_mesh(r'C:\\Users\\tmhtxk25\\Downloads\\P4_skin_smooth_3mm_Geo_Mirrored.stl') # mirrored\n",
    "surface_to_mirror = o3d.io.read_triangle_mesh(r'C:\\Users\\tmhtxk25\\Downloads\\skin_smooth_3mm_copy.stl') # to mirror\n",
    "\n",
    "# # define some utility functions\n",
    "\n",
    "# def distance_to_plane(points, plane):\n",
    "#     return plane[3] + points.dot(plane[:3]).reshape([-1,1])\n",
    "\n",
    "# def reflect_by_plane(points, plane):\n",
    "#     points = points - distance_to_plane(points, plane) @ plane[None,:3] * 2\n",
    "#     return points\n",
    "\n",
    "print(p4.vertices)\n",
    "p4.vertices[:,0] = -p4.vertices[:,0]\n",
    "print(p4.vertices)"
   ]
  }
 ],
 "metadata": {
  "kernelspec": {
   "display_name": "Python 3.9.13 ('.venv': venv)",
   "language": "python",
   "name": "python3"
  },
  "language_info": {
   "name": "python",
   "version": "3.9.13"
  },
  "orig_nbformat": 4,
  "vscode": {
   "interpreter": {
    "hash": "f4f69a0f92b160589065469ec5e19a38304309851aabd64f5a21d80870727505"
   }
  }
 },
 "nbformat": 4,
 "nbformat_minor": 2
}
